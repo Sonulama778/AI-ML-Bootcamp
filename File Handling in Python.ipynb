{
 "cells": [
  {
   "cell_type": "code",
   "execution_count": 1,
   "id": "be93d7ad",
   "metadata": {},
   "outputs": [
    {
     "name": "stdout",
     "output_type": "stream",
     "text": [
      "CSV file created successfully.\n"
     ]
    }
   ],
   "source": [
    "### File Handling in Python\n",
    "## 1 Creating a CSV (Comma-Separated Values) file\n",
    "\n",
    "import csv\n",
    "# Data to be written to the CSV file\n",
    "header = ['Name', 'Age', 'City']\n",
    "rows = [\n",
    " ['Ram', 30, 'India'],\n",
    " ['Sonu', 25, 'New Jersey'],\n",
    " ['Niru', 28, 'Chicago']\n",
    "]\n",
    "# Create a CSV file \n",
    "with open('dummydata.csv', mode='w', newline='') as file: ## create a csv file named 'dummydata' in a writing mode with space\n",
    " writer = csv.writer(file)\n",
    " # Write the header\n",
    " writer.writerow(header)\n",
    " # Write the data rows\n",
    " writer.writerows(rows)\n",
    "print(\"CSV file created successfully.\")"
   ]
  },
  {
   "cell_type": "code",
   "execution_count": 2,
   "id": "208b36d2",
   "metadata": {},
   "outputs": [
    {
     "name": "stdout",
     "output_type": "stream",
     "text": [
      "JSON file created successfully.\n"
     ]
    }
   ],
   "source": [
    "## 2 Creating a JSON (JavaScript Object Notation) file\n",
    "\n",
    "import json\n",
    "# Data to be written to the JSON file\n",
    "data = [\n",
    " {\"Name\": \"Alice\", \"Age\": 30, \"City\": \"New York\"},\n",
    " {\"Name\": \"Bob\", \"Age\": 25, \"City\": \"Los Angeles\"},\n",
    " {\"Name\": \"Charlie\", \"Age\": 28, \"City\": \"Chicago\"}\n",
    "]\n",
    "# Create a JSON file\n",
    "with open('people3.json', mode='w') as file:\n",
    " json.dump(data, file, indent=4) # The indent parameter makes the JSON file readable\n",
    "print(\"JSON file created successfully.\")"
   ]
  },
  {
   "cell_type": "code",
   "execution_count": 4,
   "id": "50e81a2c",
   "metadata": {},
   "outputs": [
    {
     "name": "stdout",
     "output_type": "stream",
     "text": [
      "XML file created successfully.\n"
     ]
    }
   ],
   "source": [
    "## 3 Creating a xml (eXtensible Markup language) file\n",
    "\n",
    "\n",
    "import xml.etree.ElementTree as ET #specifically used tree function inside xml package \n",
    "# Create the root element\n",
    "root = ET.Element('people')\n",
    "# Data to be added to the XML file\n",
    "data = [\n",
    " {\"Name\": \"Alice\", \"Age\": \"30\", \"City\": \"New York\"},\n",
    " {\"Name\": \"Bob\", \"Age\": \"25\", \"City\": \"Los Angeles\"},\n",
    " {\"Name\": \"Charlie\", \"Age\": \"28\", \"City\": \"Chicago\"}\n",
    "]\n",
    "# Append each person's data as a child element\n",
    "for person in data:\n",
    " person_elem = ET.SubElement(root, 'person')\n",
    " for key, value in person.items():\n",
    "  child_elem = ET.SubElement(person_elem, key)\n",
    " child_elem.text = value\n",
    "# Create an XML tree from the root element\n",
    "tree = ET.ElementTree(root)\n",
    "# Write the XML tree to a file\n",
    "with open('people.xml', mode='wb') as file:\n",
    " tree.write(file)\n",
    "print(\"XML file created successfully.\")"
   ]
  },
  {
   "cell_type": "code",
   "execution_count": 5,
   "id": "03dd8d09",
   "metadata": {},
   "outputs": [
    {
     "name": "stdout",
     "output_type": "stream",
     "text": [
      "SQL file 'people_db_setup.sql' created successfully.\n",
      "SQL file 'people_db_setup.sql' created successfully.\n"
     ]
    }
   ],
   "source": [
    "sql_commands = \"\"\"\n",
    "-- Create a new database\n",
    "CREATE DATABASE PeopleDB;\n",
    "-- Use the new database\n",
    "USE PeopleDB;\n",
    "-- Create a table named \"people\"\n",
    "CREATE TABLE people (\n",
    " id INT AUTO_INCREMENT PRIMARY KEY,\n",
    " name VARCHAR(100),\n",
    " age INT,\n",
    " city VARCHAR(100)\n",
    ");\n",
    "-- Insert data into the \"people\" table\n",
    "INSERT INTO people (name, age, city) VALUES\n",
    "('Alice', 30, 'New York'),\n",
    "('Bob', 25, 'Los Angeles');\n",
    "-- Query the data from the \"people\" table\n",
    "SELECT * FROM people;\n",
    "\"\"\"\n",
    "# Specify the file path\n",
    "file_path = \"people_db_setup.sql\"\n",
    "# Create and write to the SQL file\n",
    "with open(file_path, 'w') as file:\n",
    " file.write(sql_commands)\n",
    "print(f\"SQL file '{file_path}' created successfully.\")\n",
    "# Specify the file path\n",
    "file_path = \"people_db_setup.sql\"\n",
    "# Create and write to the SQL file\n",
    "with open(file_path, 'w') as file:\n",
    " file.write(sql_commands)\n",
    "print(f\"SQL file '{file_path}' created successfully.\")"
   ]
  },
  {
   "cell_type": "code",
   "execution_count": null,
   "id": "200a5291",
   "metadata": {},
   "outputs": [],
   "source": []
  }
 ],
 "metadata": {
  "kernelspec": {
   "display_name": "Python 3 (ipykernel)",
   "language": "python",
   "name": "python3"
  },
  "language_info": {
   "codemirror_mode": {
    "name": "ipython",
    "version": 3
   },
   "file_extension": ".py",
   "mimetype": "text/x-python",
   "name": "python",
   "nbconvert_exporter": "python",
   "pygments_lexer": "ipython3",
   "version": "3.10.9"
  }
 },
 "nbformat": 4,
 "nbformat_minor": 5
}
