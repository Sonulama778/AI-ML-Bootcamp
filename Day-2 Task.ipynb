{
 "cells": [
  {
   "cell_type": "code",
   "execution_count": 4,
   "id": "7fd36823",
   "metadata": {},
   "outputs": [
    {
     "name": "stdout",
     "output_type": "stream",
     "text": [
      "Enter first number: 34\n",
      "Enter second number: 77\n",
      "Enter operation (+, -, *, /): *\n",
      "Result: 2618.0\n"
     ]
    }
   ],
   "source": [
    "# Creating a simple calculator\n",
    "num1 = float(input(\"Enter first number: \"))\n",
    "num2 = float(input(\"Enter second number: \"))\n",
    "operation = input(\"Enter operation (+, -, *, /): \")\n",
    "\n",
    "if operation == '+':\n",
    "    print(\"The total sum of the two number is:\", num1 + num2)\n",
    "elif operation == '-':\n",
    "    print(\"Result:\", num1 - num2)\n",
    "elif operation == '*':\n",
    "    print(\"Result:\", num1 * num2)\n",
    "elif operation == '/':\n",
    "    if num2 != 0:\n",
    "        print (\"Result:\", num1 / num2)\n",
    "    else:\n",
    "        print(\"Error: Division by zero.\")\n",
    "else:\n",
    "    print(\"Invalid operation.\")\n"
   ]
  },
  {
   "cell_type": "code",
   "execution_count": 2,
   "id": "109027ea",
   "metadata": {},
   "outputs": [
    {
     "name": "stdout",
     "output_type": "stream",
     "text": [
      "Maximum: 89\n",
      "Minimum: 2\n"
     ]
    }
   ],
   "source": [
    "# Find the miinimum and maximum of the list\n",
    "#assign the value first\n",
    "numbers = [10, 3, 45, 6, 23, 89, 2]\n",
    "print(\"Maximum:\", max(numbers))\n",
    "print(\"Minimum:\", min(numbers))\n"
   ]
  },
  {
   "cell_type": "code",
   "execution_count": 3,
   "id": "af132b57",
   "metadata": {},
   "outputs": [
    {
     "name": "stdout",
     "output_type": "stream",
     "text": [
      "2 is prime\n"
     ]
    }
   ],
   "source": [
    "## Check for the prime number\n",
    "def is_prime(n):\n",
    "    if n <= 1:\n",
    "        return False\n",
    "    for i in range(2, int(n**0.5)+1):\n",
    "        if n % i == 0:\n",
    "            return False\n",
    "    return True\n",
    "\n",
    "number = 2\n",
    "print(f\"{number} is prime\" if is_prime(number) else f\"{number} is not prime\")\n"
   ]
  },
  {
   "cell_type": "code",
   "execution_count": 4,
   "id": "50ea09ba",
   "metadata": {},
   "outputs": [
    {
     "name": "stdout",
     "output_type": "stream",
     "text": [
      "Factorial of 5 is 120\n"
     ]
    }
   ],
   "source": [
    "# Factorial number\n",
    "def factorial(n):\n",
    "    if n == 0 or n == 1:\n",
    "        return 1\n",
    "    return n * factorial(n - 1)\n",
    "\n",
    "num = 5\n",
    "print(f\"Factorial of {num} is {factorial(num)}\")"
   ]
  },
  {
   "cell_type": "code",
   "execution_count": null,
   "id": "31d1a7d4",
   "metadata": {},
   "outputs": [],
   "source": [
    "# Fibonacci Sequence\n",
    "\n",
    "terms = int(input(\"Enter the number of terms: \"))\n",
    "\n",
    "a, b = 0, 1\n",
    "count = 0\n",
    "\n",
    "while count < terms:\n",
    "    print(a)\n",
    "    a, b = b, a + b\n",
    "    count += 1"
   ]
  },
  {
   "cell_type": "code",
   "execution_count": null,
   "id": "30f4b7e1",
   "metadata": {},
   "outputs": [],
   "source": [
    "# Sum of digits of a number\n",
    "\n",
    "number = int(input(\"Enter a number:\"))\n",
    "total = 0\n",
    "while number > 0:\n",
    "    digit = number % 10      # Get the last digit\n",
    "    total += digit        # Add to total\n",
    "    number = number // 10       # Remove the last digit\n",
    "    \n",
    "print(\"Sum of digits:\", total)"
   ]
  },
  {
   "cell_type": "code",
   "execution_count": null,
   "id": "9b8c98e0",
   "metadata": {},
   "outputs": [],
   "source": [
    "# Convert decimal to binary\n",
    "\n",
    "num = int(input(\"Enter a decimal number: \"))\n",
    "binary = \"\"\n",
    "\n",
    "if num == 0:\n",
    "    binary = \"0\"\n",
    "else:\n",
    "    while num > 0:\n",
    "        digit = num % 2         # Get the remainder (0 or 1)\n",
    "        binary = str(digit) + binary  # Add it to the front\n",
    "        num = num // 2          # Divide by 2 to get the next digit\n",
    "\n",
    "print(\"Binary representation:\", binary)\n"
   ]
  },
  {
   "cell_type": "code",
   "execution_count": null,
   "id": "b750af6e",
   "metadata": {},
   "outputs": [],
   "source": [
    "# Find GCD using Euclid's algorithm\n",
    "\n",
    "a = int(input(\"Enter first number: \"))\n",
    "b = int(input(\"Enter second number: \"))\n",
    "\n",
    "while b != 0:\n",
    "    a, b = b, a % b\n",
    "\n",
    "print(\"GCD is:\", a)"
   ]
  },
  {
   "cell_type": "code",
   "execution_count": null,
   "id": "a74dea7c",
   "metadata": {},
   "outputs": [],
   "source": [
    "# Find the second largest number in a list\n",
    "\n",
    "numbers = [12, 45, 78, 34, 89, 22]\n",
    "\n",
    "numbers.sort()  # Sorts the list in ascending order\n",
    "print(numbers)\n",
    "second_largest = numbers[-2]  # Second last item is the second largest\n",
    "\n",
    "print(\"Second largest number is:\", second_largest)\n"
   ]
  },
  {
   "cell_type": "code",
   "execution_count": null,
   "id": "17fbed58",
   "metadata": {},
   "outputs": [],
   "source": [
    "#count the number of the digit\n",
    "num = 3747365353\n",
    "length = len(str(num))\n",
    "print(f\"The number of digit is:\", length)\n"
   ]
  },
  {
   "cell_type": "code",
   "execution_count": null,
   "id": "bbcaf4b0",
   "metadata": {},
   "outputs": [],
   "source": [
    "# Check if a Number is a Power of Two\n",
    "\n",
    "num = int(input(\"Enter a number: \"))\n",
    "power = 1\n",
    "\n",
    "while power < num:\n",
    "    power *= 2\n",
    "\n",
    "if power == num:\n",
    "    print(num, \"is a power of two\")\n",
    "else:\n",
    "    print(num, \"is NOT a power of two\")\n"
   ]
  },
  {
   "cell_type": "code",
   "execution_count": null,
   "id": "534935b4",
   "metadata": {},
   "outputs": [],
   "source": []
  }
 ],
 "metadata": {
  "kernelspec": {
   "display_name": "Python 3 (ipykernel)",
   "language": "python",
   "name": "python3"
  },
  "language_info": {
   "codemirror_mode": {
    "name": "ipython",
    "version": 3
   },
   "file_extension": ".py",
   "mimetype": "text/x-python",
   "name": "python",
   "nbconvert_exporter": "python",
   "pygments_lexer": "ipython3",
   "version": "3.10.9"
  }
 },
 "nbformat": 4,
 "nbformat_minor": 5
}
