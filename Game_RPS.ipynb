{
 "cells": [
  {
   "cell_type": "code",
   "execution_count": 1,
   "id": "14183ef4",
   "metadata": {},
   "outputs": [],
   "source": [
    "#let's create a rock ,paper, and scissors game\n",
    "#first define the choices\n",
    "choices = ['rock', 'paper', 'scissors']\n",
    "    "
   ]
  },
  {
   "cell_type": "code",
   "execution_count": 2,
   "id": "6fb823b9",
   "metadata": {},
   "outputs": [
    {
     "name": "stdout",
     "output_type": "stream",
     "text": [
      "Enter rock, paper, or scissorspaper\n",
      "Both chose paper. It's a tie!\n"
     ]
    }
   ],
   "source": [
    "#then, create computer choice and human/player choice\n",
    "#for computer choice, lets import random package\n",
    "import random\n",
    "# computer choice\n",
    "computer_choice = random.choice(choices)\n",
    "# player choice\n",
    "player_choice = input('Enter rock, paper, or scissors').lower()\n",
    "#determine the winner\n",
    "if player_choice == computer_choice:\n",
    " print(f\"Both chose {player_choice}. It's a tie!\")\n",
    "elif (player_choice == \"rock\" and computer_choice == \"scissors\") or \\\n",
    " (player_choice == \"scissors\" and computer_choice == \"paper\") or \\\n",
    " (player_choice == \"paper\" and computer_choice == \"rock\"):\n",
    " print(f\"You chose {player_choice} and the computer chose {computer_choice}. You win!\")\n",
    "else:\n",
    " print(f\"You chose {player_choice} and the computer chose {computer_choice}. You lose!\")"
   ]
  },
  {
   "cell_type": "code",
   "execution_count": null,
   "id": "5aa71a7b",
   "metadata": {},
   "outputs": [],
   "source": []
  }
 ],
 "metadata": {
  "kernelspec": {
   "display_name": "Python 3 (ipykernel)",
   "language": "python",
   "name": "python3"
  },
  "language_info": {
   "codemirror_mode": {
    "name": "ipython",
    "version": 3
   },
   "file_extension": ".py",
   "mimetype": "text/x-python",
   "name": "python",
   "nbconvert_exporter": "python",
   "pygments_lexer": "ipython3",
   "version": "3.10.9"
  }
 },
 "nbformat": 4,
 "nbformat_minor": 5
}
