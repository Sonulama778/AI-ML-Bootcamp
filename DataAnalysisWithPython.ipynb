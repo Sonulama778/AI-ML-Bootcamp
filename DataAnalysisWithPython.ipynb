{
 "cells": [
  {
   "cell_type": "code",
   "execution_count": 1,
   "id": "1c2a519a",
   "metadata": {},
   "outputs": [],
   "source": [
    "##creating numpy arrays\n",
    "import numpy\n"
   ]
  },
  {
   "cell_type": "code",
   "execution_count": 2,
   "id": "4ae090a8",
   "metadata": {},
   "outputs": [
    {
     "name": "stdout",
     "output_type": "stream",
     "text": [
      "1.23.5\n"
     ]
    }
   ],
   "source": [
    "print(numpy.__version__) ###to check the version of numpy"
   ]
  },
  {
   "cell_type": "code",
   "execution_count": 3,
   "id": "44db898b",
   "metadata": {},
   "outputs": [],
   "source": [
    "import pandas"
   ]
  },
  {
   "cell_type": "code",
   "execution_count": 4,
   "id": "67aa65e1",
   "metadata": {},
   "outputs": [
    {
     "name": "stdout",
     "output_type": "stream",
     "text": [
      "1.5.3\n"
     ]
    }
   ],
   "source": [
    "print(pandas.__version__) ## to check the version of pandas"
   ]
  },
  {
   "cell_type": "code",
   "execution_count": 5,
   "id": "1a4854b7",
   "metadata": {},
   "outputs": [],
   "source": [
    "import numpy as np"
   ]
  },
  {
   "cell_type": "code",
   "execution_count": 6,
   "id": "f6a50bc7",
   "metadata": {},
   "outputs": [],
   "source": [
    "import pandas as pd"
   ]
  },
  {
   "cell_type": "code",
   "execution_count": 7,
   "id": "2cb581e5",
   "metadata": {},
   "outputs": [
    {
     "name": "stdout",
     "output_type": "stream",
     "text": [
      "[1 2 3 4 5 6 7 8]\n"
     ]
    }
   ],
   "source": [
    "###creating a simple array\n",
    "[1,2,3,4,5,6,7,8]\n",
    "np_arr = np.array([1,2,3,4,5,6,7,8])\n",
    "print (np_arr)"
   ]
  },
  {
   "cell_type": "code",
   "execution_count": 8,
   "id": "e754b138",
   "metadata": {},
   "outputs": [
    {
     "name": "stdout",
     "output_type": "stream",
     "text": [
      "Element-wise Addition: [5 7 9]\n",
      "Element-wise Substraction: [-3 -3 -3]\n",
      "Element-wise Multiplication: [ 4 10 18]\n",
      "Element-wise Division: [0.25 0.4  0.5 ]\n"
     ]
    }
   ],
   "source": [
    "##Performing operations of arrays\n",
    "#First-adding two arrays\n",
    "# Creating two arrays of the same shape\n",
    "arr1 = np.array([1, 2, 3]) # First array\n",
    "arr2 = np.array([4, 5, 6]) # Second array\n",
    "\n",
    "# Performing element-wise addition\n",
    "arr_sum = arr1 + arr2 # Adds corresponding elements in arr1 and arr2\n",
    "print(\"Element-wise Addition:\", arr_sum)\n",
    "\n",
    "#Performing element-wise substraction\n",
    "arr_sub = arr1 - arr2 # Substracts corresponding elements in arr1 and arr2\n",
    "print(\"Element-wise Substraction:\", arr_sub)\n",
    "\n",
    "#Performing element-wise multiplication\n",
    "arr_product = arr1*arr2 # Multiplies corresponding elements in arr1 and arr2\n",
    "print(\"Element-wise Multiplication:\", arr_product)\n",
    "\n",
    "#Performing element-wise division\n",
    "arr_quotient = arr1/arr2 #Divides corresponding elements in arr1 and arr2\n",
    "print(\"Element-wise Division:\", arr_quotient)"
   ]
  },
  {
   "cell_type": "code",
   "execution_count": 9,
   "id": "39baeefc",
   "metadata": {},
   "outputs": [
    {
     "name": "stdout",
     "output_type": "stream",
     "text": [
      "[1 2 3 4 5 6 7]\n",
      "The number of dimension is: 1\n",
      "The shape of the array is: (7,)\n"
     ]
    }
   ],
   "source": [
    "### Array properties\n",
    "arr = np.array ([1,2,3,4,5,6,7])\n",
    "print(arr)\n",
    "\n",
    "D = (arr.ndim) #shows the number of dimesion\n",
    "print (\"The number of dimension is:\", D)\n",
    "\n",
    "S = (arr.shape) #shows the shape of the dimesion\n",
    "print (\"The shape of the array is:\", S)"
   ]
  },
  {
   "cell_type": "code",
   "execution_count": 10,
   "id": "c18f6017",
   "metadata": {},
   "outputs": [
    {
     "name": "stdout",
     "output_type": "stream",
     "text": [
      "1\n",
      "5\n",
      "[1 2 3 4]\n",
      "[1 2 3 4]\n",
      "[4 5 6 7]\n"
     ]
    }
   ],
   "source": [
    "## Performing Operations on Array\n",
    "\n",
    "##Accessing elements\n",
    "print(arr[0]) #this shows the first element\n",
    "print(arr[4]) #this shows the fifth element\n",
    "\n",
    "\n",
    "##Slicing arrays\n",
    "print(arr[0:4]) #this shows the element from index 0 to 3, excluding 4\n",
    "\n",
    "print (arr[:4]) #you can also write this way if you want to include from beginning\n",
    "\n",
    "print (arr[3:]) #this shows the element from index 4 to end, excluding 3"
   ]
  },
  {
   "cell_type": "code",
   "execution_count": 11,
   "id": "5405fe9d",
   "metadata": {},
   "outputs": [
    {
     "name": "stdout",
     "output_type": "stream",
     "text": [
      "0    10\n",
      "1    20\n",
      "2    30\n",
      "3    40\n",
      "dtype: int64\n"
     ]
    }
   ],
   "source": [
    "### Basic Structure in Pandas\n",
    "\n",
    "#Creating a Series\n",
    "data = [10, 20, 30, 40] #sample data for series\n",
    "Series = pd.Series(data) #makes sure S is capital letter to create a series from the list\n",
    "print(Series)"
   ]
  },
  {
   "cell_type": "code",
   "execution_count": 12,
   "id": "0ea5f935",
   "metadata": {},
   "outputs": [
    {
     "name": "stdout",
     "output_type": "stream",
     "text": [
      "\n",
      "Pandas DataFrame:\n",
      "      Name Age      City\n",
      "0  Aashish  25  New York\n",
      "1    Bablu  40    Dallas\n",
      "2     Sonu  30    Newark\n"
     ]
    }
   ],
   "source": [
    "#Creating a DataFrame\n",
    "data_dict = {\n",
    "    'Name': ['Aashish', 'Bablu', 'Sonu'],  #Name of individuals\n",
    "    'Age' : ['25', '40', '30'], ###Corresponding ages\n",
    "    'City' : ['New York', 'Dallas', 'Newark'] # Corresponding cities\n",
    "}\n",
    "df = pd.DataFrame(data_dict) #Creating a DataFrame from the dictionary\n",
    "print(\"\\nPandas DataFrame:\")\n",
    "print (df)"
   ]
  },
  {
   "cell_type": "code",
   "execution_count": 13,
   "id": "8dfe322d",
   "metadata": {},
   "outputs": [
    {
     "name": "stdout",
     "output_type": "stream",
     "text": [
      "The first element in the series: 10\n",
      "\n",
      "Accesing the 'Name' column:\n",
      "0    Aashish\n",
      "1      Bablu\n",
      "2       Sonu\n",
      "Name: Name, dtype: object\n",
      "\n",
      "Accesing the first row of the DataFrame using iloc:\n",
      "      Name Age      City\n",
      "0  Aashish  25  New York\n",
      "\n",
      "Accessing the first two rows of the DataFrame using iloc:\n",
      "      Name Age      City\n",
      "0  Aashish  25  New York\n",
      "1    Bablu  40    Dallas\n"
     ]
    }
   ],
   "source": [
    "#Accessing elements in the series\n",
    "print(\"The first element in the series:\", Series[0])\n",
    "\n",
    "#Accessing DataFrame columns\n",
    "print (\"\\nAccesing the 'Name' column:\" )\n",
    "print (df['Name']) #this displays the name column\n",
    "\n",
    "\n",
    "#Accessing DataFrame rows using iloc\n",
    "print(\"\\nAccesing the first row of the DataFrame using iloc:\")\n",
    "print(df.iloc[[0]]) #this displays the first row, \n",
    "\n",
    "\n",
    "#just a usage example\n",
    "print (\"\\nAccessing the first two rows of the DataFrame using iloc:\")\n",
    "print (df.iloc[0:2]) "
   ]
  },
  {
   "cell_type": "code",
   "execution_count": 19,
   "id": "c6d74026",
   "metadata": {},
   "outputs": [
    {
     "name": "stdout",
     "output_type": "stream",
     "text": [
      "     Name Age\n",
      "a   Aasma  22\n",
      "b  Bishal  29\n",
      "c   Kajol  35\n"
     ]
    }
   ],
   "source": [
    "#Assigning index to the DataFrame\n",
    "data = {'Name': ['Aasma', 'Bishal', 'Kajol'],\n",
    "       'Age': ['22', '29', '35']}\n",
    "df = pd.DataFrame(data, index = ['a', 'b', 'c'])\n",
    "print (df)"
   ]
  },
  {
   "cell_type": "code",
   "execution_count": 22,
   "id": "32909346",
   "metadata": {},
   "outputs": [
    {
     "name": "stdout",
     "output_type": "stream",
     "text": [
      "\n",
      "Accesing the first row of the DataFrame by label\n",
      "Name    Aasma\n",
      "Age        22\n",
      "Name: a, dtype: object\n"
     ]
    }
   ],
   "source": [
    "# Using .loc to select by label\n",
    "print(\"\\nAccesing the first row of the DataFrame by label\")\n",
    "print(df.loc['a']) # Select row with index label 'a'"
   ]
  },
  {
   "cell_type": "code",
   "execution_count": 24,
   "id": "aad78506",
   "metadata": {},
   "outputs": [
    {
     "name": "stdout",
     "output_type": "stream",
     "text": [
      "     Name Age\n",
      "a   Aasma  22\n",
      "b  Bishal  29\n"
     ]
    }
   ],
   "source": [
    "print(df.loc['a':'b']) ##select rows 'a' to 'b' (inclusive)"
   ]
  },
  {
   "cell_type": "code",
   "execution_count": 26,
   "id": "0dbac59b",
   "metadata": {},
   "outputs": [
    {
     "name": "stdout",
     "output_type": "stream",
     "text": [
      "Aasma\n"
     ]
    }
   ],
   "source": [
    "print(df.loc['a', 'Name']) #this shows specific value "
   ]
  },
  {
   "cell_type": "code",
   "execution_count": null,
   "id": "bac4e0c3",
   "metadata": {},
   "outputs": [],
   "source": []
  }
 ],
 "metadata": {
  "kernelspec": {
   "display_name": "Python 3 (ipykernel)",
   "language": "python",
   "name": "python3"
  },
  "language_info": {
   "codemirror_mode": {
    "name": "ipython",
    "version": 3
   },
   "file_extension": ".py",
   "mimetype": "text/x-python",
   "name": "python",
   "nbconvert_exporter": "python",
   "pygments_lexer": "ipython3",
   "version": "3.10.9"
  }
 },
 "nbformat": 4,
 "nbformat_minor": 5
}
