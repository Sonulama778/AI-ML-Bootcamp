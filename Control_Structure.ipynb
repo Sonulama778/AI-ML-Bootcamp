{
 "cells": [
  {
   "cell_type": "code",
   "execution_count": 7,
   "id": "4da062d6",
   "metadata": {},
   "outputs": [
    {
     "name": "stdout",
     "output_type": "stream",
     "text": [
      "The number is not positive\n",
      "Another condition is True\n"
     ]
    }
   ],
   "source": [
    "number = -5\n",
    "if number > 0:\n",
    "    print(\"The number is positive\")\n",
    "else:\n",
    "    print(\"The number is not positive\")\n",
    "\n",
    "# Example with if-elif-else\n",
    "condition = False\n",
    "another_condition = True\n",
    "\n",
    "if condition:\n",
    "    print(\"Condition is True\")\n",
    "elif another_condition:\n",
    "    print(\"Another condition is True\")\n",
    "else:\n",
    "    print(\"Neither condition is True\")\n"
   ]
  },
  {
   "cell_type": "code",
   "execution_count": 8,
   "id": "62ad75c1",
   "metadata": {
    "scrolled": true
   },
   "outputs": [
    {
     "name": "stdout",
     "output_type": "stream",
     "text": [
      "The number is positive.\n"
     ]
    }
   ],
   "source": [
    "# Checking if a number is positive, negative, or zero\n",
    "num = 5\n",
    "if num > 0:\n",
    " print(\"The number is positive.\")\n",
    "elif num == 0:\n",
    " print(\"The number is zero.\")\n",
    "else:\n",
    " print(\"The number is negative.\")"
   ]
  },
  {
   "cell_type": "code",
   "execution_count": 9,
   "id": "54225a69",
   "metadata": {},
   "outputs": [
    {
     "name": "stdout",
     "output_type": "stream",
     "text": [
      "The number is between 1 and 10.\n"
     ]
    }
   ],
   "source": [
    "# Checking if a number is between 1 and 10\n",
    "num = 7\n",
    "if num > 1 and num < 10:\n",
    " print(\"The number is between 1 and 10.\")\n",
    "else:\n",
    " print(\"The number is not in the range.\")"
   ]
  },
  {
   "cell_type": "code",
   "execution_count": 10,
   "id": "f985499f",
   "metadata": {},
   "outputs": [
    {
     "name": "stdout",
     "output_type": "stream",
     "text": [
      "7 is odd\n"
     ]
    }
   ],
   "source": [
    "number = 7\n",
    "if number % 2 == 0:\n",
    " print(f\"{number} is even\")\n",
    "else:\n",
    " print(f\"{number} is odd\")"
   ]
  },
  {
   "cell_type": "code",
   "execution_count": null,
   "id": "d483b4fa",
   "metadata": {},
   "outputs": [],
   "source": []
  }
 ],
 "metadata": {},
 "nbformat": 4,
 "nbformat_minor": 5
}
