{
 "cells": [
  {
   "cell_type": "code",
   "execution_count": 12,
   "id": "1d18c7f6",
   "metadata": {},
   "outputs": [],
   "source": [
    "import requests\n",
    "from bs4 import BeautifulSoup\n",
    "import pandas as pd\n",
    "import json\n",
    "import re\n",
    "import html\n"
   ]
  },
  {
   "cell_type": "code",
   "execution_count": 13,
   "id": "e50ca716",
   "metadata": {},
   "outputs": [
    {
     "data": {
      "text/plain": [
       "<Response [200]>"
      ]
     },
     "execution_count": 13,
     "metadata": {},
     "output_type": "execute_result"
    }
   ],
   "source": [
    "# Step 1: Send a GET request to the \"most popular YouTube videos\"  page\n",
    "# Define the URL of the IMDb chart for most popular movies\n",
    "url = \"https://www.statista.com/statistics/249396/top-youtube-videos-views/\"\n",
    "# Define headers to mimic a browser visit and avoid being blocked by the website\n",
    "headers = {\"User-Agent\": \"Mozilla/5.0\"}\n",
    "# Send a GET request to fetch the content of the webpage\n",
    "response = requests.get(url, headers=headers)\n",
    "response"
   ]
  },
  {
   "cell_type": "code",
   "execution_count": 14,
   "id": "12233b72",
   "metadata": {},
   "outputs": [
    {
     "name": "stdout",
     "output_type": "stream",
     "text": [
      "Successfully fetched the page!\n"
     ]
    }
   ],
   "source": [
    "if response.status_code == 200: # Condition to check .....\n",
    " print(\"Successfully fetched the page!\")\n",
    "else:\n",
    " print(f\"Failed to retrieve the page. Status code:{response.status_code}\")"
   ]
  },
  {
   "cell_type": "code",
   "execution_count": 15,
   "id": "a5416559",
   "metadata": {},
   "outputs": [
    {
     "name": "stdout",
     "output_type": "stream",
     "text": [
      "<!DOCTYPE html>\n",
      "<html lang=\"en\" prefix=\"og: http://ogp.me/ns#\">\n",
      " <head>\n",
      "  <meta content=\"same-origin\" name=\"view-transition\"/>\n",
      "  <meta charset=\"utf-8\"/>\n",
      "  <link crossorigin=\"\" href=\"https://cdn.statcdn.com\" rel=\"preconnect\"/>\n",
      "  <title>\n",
      "   Most viewed YouTube videos worldwide 2025| Statista\n",
      "  </title>\n",
      "  <meta content=\"What is the most viewed video on YouTube? &amp;quot;Baby Shark Dance,&amp;quot; published by Pinkfong Kids' Songs &amp; Stories, has over 13 billion views\" name=\"description\"/>\n",
      "  <meta data-page=\"statistic\" id=\"gtm_routeName\"/>\n",
      "  <meta data-page=\"false\" id=\"gtm_automatedTest\"/>\n",
      "  <meta data-page=\"anonymous\" id=\"gtm_userProductGroup\"/>\n",
      "  <meta data-page=\"31\" id=\"gtm_accountTypeId\"/>\n",
      "  <meta data-page=\"en\" id=\"gtm_locale\"/>\n",
      "  <meta data-page=\"statistic\" id=\"gtm_pageType\"/>\n",
      "  <meta data-page=\"content\" id=\"gtm_userPhase\"/>\n",
      "  <meta data-page=\"0\" id=\"gtm_userId\"/>\n",
      "  <meta data-page=\"\" id=\"gtm_userCancelledStatus\"/>\n",
      "  <meta data-page=\"31\" id=\"gtm_userProductId\"/>\n",
      "  <meta data-page=\"false\" id=\"gtm_userLog\"/>\n",
      "  <meta data-page=\"\" id=\"gtm_lastContentId\"/>\n",
      "  <meta data-page=\"true\" id=\"gtm_cookieConsentEnabled\"/>\n",
      "  <meta data-page='{\"event\":\"contentView\",\"contentType\":\"statistic\",\"contentId\":\"249396\",\"contentTitle\":\"Most viewed YouTube videos of all time 2025\",\"contentMainSector\":\"Online Video &amp; Entertainment\",\"contentAccess\":\"free\",\"contentEditor\":\"2886\"}' id=\"dl_gtm_contentview\"/>\n",
      "  <meta data-page='{\"event\":\"productView\",\"ecommerce\":{\"currencyCode\":\"USD\",\"impressions\":[{\"name\":\"Premium Account\",\"id\":\"statistic249396\",\"price\":\"0.00\",\"brand\":\"Most viewed YouTube videos of all time 2025\",\"category\":\"Online Video &amp; Entertainment\",\"variant\":\"free\",\"list\":\"statistic\"}]}}' id=\"dl_gtm_productview\"/>\n",
      "  <meta data-page=\"visit\" id=\"gtm_stroeer_pageType\"/>\n",
      "  <meta data-page=\"\" id=\"gtm_stroeer_gid\"/>\n",
      "  <meta data-page=\"February 2025\" id=\"gtm_stat_surveyPeriod\">\n",
      "   <meta data-page=\"2886\" id=\"gtm_stat_editor\">\n",
      "    <meta data-page=\"64\" id=\"gtm_stat_editorTeam\"/>\n",
      "    <me\n"
     ]
    }
   ],
   "source": [
    "# Parse the HTML content of the page using Beautiful Soup\n",
    "soup = BeautifulSoup(response.content, 'html.parser')\n",
    "soup\n",
    "# Print the parsed HTML to verify\n",
    "print(soup.prettify()[:2000]) # method in Beautiful Soup that formats the parsed HTML content into a more readable structure"
   ]
  },
  {
   "cell_type": "code",
   "execution_count": 16,
   "id": "bc5513e4",
   "metadata": {},
   "outputs": [],
   "source": [
    "# Step 2: Get the <div> with the data-chart-vars attribute\n",
    "chart_div = soup.find(\"div\", {\"data-chart-vars-name\": \"options\"})\n",
    "raw_json = chart_div['data-chart-vars']\n",
    "\n",
    "# Step 3: Unescape HTML entities (e.g. &quot; → \")\n",
    "cleaned_json = html.unescape(raw_json)\n",
    "\n",
    "# Step 4: Parse JSON\n",
    "data = json.loads(cleaned_json)\n",
    "\n",
    "# Step 5: Extract data\n",
    "titles = data[\"xAxis\"][\"categories\"]\n",
    "views = [point[\"y\"] for point in data[\"series\"][0][\"data\"]]\n",
    "\n"
   ]
  },
  {
   "cell_type": "code",
   "execution_count": 17,
   "id": "e233e174",
   "metadata": {},
   "outputs": [
    {
     "name": "stdout",
     "output_type": "stream",
     "text": [
      "                                         Video Title  Views (Billions)\n",
      "0  \"Baby Shark Dance\" - Pinkfong Kids' Songs & St...             15.47\n",
      "1     \"Despacito\"- Luis Fonsi featuring Daddy Yankee              8.63\n",
      "2               \"Johny Johny Yes Papa\" - LooLoo Kids              6.99\n",
      "3           \"Bath Song\" - Cocomelon - Nursery Rhymes              6.96\n",
      "4   \"Wheels on the Bus\" - Cocomelon – Nursery Rhymes              6.95\n",
      "5  See You Again\" - Wiz Khalifa featuring Charlie...              6.52\n",
      "6                       \"Shape of You\" - Ed Sheeran\"              6.39\n",
      "7          \"Phonics Song with Two Words\" - ChuChu TV              6.21\n",
      "8   \"Uptown Funk\" - Mark Ronson featuring Bruno Mars              5.44\n",
      "9                               \"Gangnam Style\" -PSY              5.41\n"
     ]
    }
   ],
   "source": [
    "# Step 6: Create DataFrame\n",
    "df = pd.DataFrame({\n",
    "    \"Video Title\": titles,\n",
    "    \"Views (Billions)\": views\n",
    "})\n",
    "\n",
    "# Step 7: Display\n",
    "print(df)"
   ]
  },
  {
   "cell_type": "code",
   "execution_count": 18,
   "id": "9011cf02",
   "metadata": {},
   "outputs": [
    {
     "name": "stdout",
     "output_type": "stream",
     "text": [
      "Data saved to 'most_viewed_YouTube_videos.csv'\n"
     ]
    }
   ],
   "source": [
    "# Step 8: Create a CSV file\n",
    "# This saves the DataFrame as a CSV file called 'most_viewed_YouTube_videos.csv'\n",
    "df.to_csv('most_viewed_YouTube_videos.csv', index=False) # index=False means we do not save the index column\n",
    "print(\"Data saved to 'most_viewed_YouTube_videos.csv'\") # Notify the user that the data has been saved"
   ]
  },
  {
   "cell_type": "code",
   "execution_count": null,
   "id": "0e707a83",
   "metadata": {},
   "outputs": [],
   "source": []
  }
 ],
 "metadata": {
  "kernelspec": {
   "display_name": "Python 3 (ipykernel)",
   "language": "python",
   "name": "python3"
  },
  "language_info": {
   "codemirror_mode": {
    "name": "ipython",
    "version": 3
   },
   "file_extension": ".py",
   "mimetype": "text/x-python",
   "name": "python",
   "nbconvert_exporter": "python",
   "pygments_lexer": "ipython3",
   "version": "3.10.9"
  }
 },
 "nbformat": 4,
 "nbformat_minor": 5
}
