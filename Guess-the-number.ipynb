{
 "cells": [
  {
   "cell_type": "code",
   "execution_count": null,
   "id": "a0971011",
   "metadata": {},
   "outputs": [
    {
     "name": "stdout",
     "output_type": "stream",
     "text": [
      "Guess the number (between 1 and 100): 6\n",
      "Try again!\n",
      "Guess the number (between 1 and 100): 55\n",
      "Try again!\n",
      "Guess the number (between 1 and 100): 2\n",
      "Try again!\n",
      "Guess the number (between 1 and 100): 9\n",
      "Try again!\n",
      "Guess the number (between 1 and 100): 76\n",
      "Try again!\n",
      "Guess the number (between 1 and 100): 45\n",
      "Try again!\n"
     ]
    }
   ],
   "source": [
    "import random\n",
    "\n",
    "# Computer picks a random number between 1 and 100\n",
    "secret_number = random.randint(1, 100)\n",
    "\n",
    "# Player's guess\n",
    "while True:\n",
    "    guess = int(input(\"Guess the number (between 1 and 100): \"))\n",
    "    \n",
    "    if guess == secret_number:\n",
    "        print(\"Correct! You guessed the number.\")\n",
    "        break\n",
    "    else:\n",
    "        print(\"Try again!\")\n"
   ]
  },
  {
   "cell_type": "code",
   "execution_count": null,
   "id": "340f65f8",
   "metadata": {},
   "outputs": [],
   "source": []
  }
 ],
 "metadata": {
  "kernelspec": {
   "display_name": "Python 3 (ipykernel)",
   "language": "python",
   "name": "python3"
  },
  "language_info": {
   "codemirror_mode": {
    "name": "ipython",
    "version": 3
   },
   "file_extension": ".py",
   "mimetype": "text/x-python",
   "name": "python",
   "nbconvert_exporter": "python",
   "pygments_lexer": "ipython3",
   "version": "3.10.9"
  }
 },
 "nbformat": 4,
 "nbformat_minor": 5
}
