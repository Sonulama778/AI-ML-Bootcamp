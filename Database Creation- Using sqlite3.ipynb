{
 "cells": [
  {
   "cell_type": "code",
   "execution_count": 20,
   "id": "28c24279",
   "metadata": {},
   "outputs": [],
   "source": [
    "# Creating a database using sqlite\n",
    "\n",
    "#Example 1\n",
    "\n",
    "import sqlite3 as sql\n",
    "# Connect to a database (or create it if it doesn't exist)\n",
    "connection = sql.connect('bda74.db')\n",
    "# Create a cursor object using the connection. A cursor is a control structure that enables traversal over the records in a database.\n",
    "cursor = connection.cursor()"
   ]
  },
  {
   "cell_type": "code",
   "execution_count": 21,
   "id": "957b01a9",
   "metadata": {},
   "outputs": [],
   "source": [
    "# Creating an sql table in python\n",
    "\n",
    "cursor.execute('''\n",
    "CREATE TABLE people2(\n",
    " id INTEGER PRIMARY KEY,\n",
    " name TEXT NOT NULL,\n",
    " age INTEGER,\n",
    " city TEXT\n",
    ");\n",
    "''')\n",
    "# Commit the changes and close the connection\n",
    "connection.commit()"
   ]
  },
  {
   "cell_type": "code",
   "execution_count": 23,
   "id": "a815e363",
   "metadata": {},
   "outputs": [],
   "source": [
    "# Inserting Data using INSERT statement\n",
    "## INSERT INTO people2 (name, age, city) VALUES ('Alice', 30, 'New York');\n",
    "### INSERT INTO people2 (name, age, city) VALUES ('Bob', 25, 'Los Angeles');\n",
    "# Insert data in sql table in python\n",
    "cursor.execute(\"INSERT INTO people2 (name, age, city) VALUES ('Alice', 30, 'New York')\")\n",
    "cursor.execute(\"INSERT INTO people2 (name, age, city) VALUES ('Bob', 25, 'Los Angeles')\")\n",
    "# Commit the changes\n",
    "connection.commit()"
   ]
  },
  {
   "cell_type": "code",
   "execution_count": 24,
   "id": "8953d1fc",
   "metadata": {},
   "outputs": [
    {
     "name": "stdout",
     "output_type": "stream",
     "text": [
      "(1, 'Alice', 30, 'New York')\n",
      "(2, 'Bob', 25, 'Los Angeles')\n"
     ]
    }
   ],
   "source": [
    "#SQL Syntax for Querying Data\n",
    "#To retrieve data from the table, you use the SELECT statement\n",
    "\n",
    "# SELECT * FROM people;\n",
    "# Query the data from sql table using python\n",
    "cursor.execute(\"Select * from people2\")\n",
    "# Fetch all results\n",
    "results = cursor.fetchall()\n",
    "# Display the results\n",
    "for row in results:\n",
    " print(row)"
   ]
  },
  {
   "cell_type": "code",
   "execution_count": 25,
   "id": "abca5eec",
   "metadata": {},
   "outputs": [
    {
     "data": {
      "text/html": [
       "<div>\n",
       "<style scoped>\n",
       "    .dataframe tbody tr th:only-of-type {\n",
       "        vertical-align: middle;\n",
       "    }\n",
       "\n",
       "    .dataframe tbody tr th {\n",
       "        vertical-align: top;\n",
       "    }\n",
       "\n",
       "    .dataframe thead th {\n",
       "        text-align: right;\n",
       "    }\n",
       "</style>\n",
       "<table border=\"1\" class=\"dataframe\">\n",
       "  <thead>\n",
       "    <tr style=\"text-align: right;\">\n",
       "      <th></th>\n",
       "      <th>0</th>\n",
       "      <th>1</th>\n",
       "      <th>2</th>\n",
       "      <th>3</th>\n",
       "    </tr>\n",
       "  </thead>\n",
       "  <tbody>\n",
       "    <tr>\n",
       "      <th>0</th>\n",
       "      <td>1</td>\n",
       "      <td>Alice</td>\n",
       "      <td>30</td>\n",
       "      <td>New York</td>\n",
       "    </tr>\n",
       "    <tr>\n",
       "      <th>1</th>\n",
       "      <td>2</td>\n",
       "      <td>Bob</td>\n",
       "      <td>25</td>\n",
       "      <td>Los Angeles</td>\n",
       "    </tr>\n",
       "  </tbody>\n",
       "</table>\n",
       "</div>"
      ],
      "text/plain": [
       "   0      1   2            3\n",
       "0  1  Alice  30     New York\n",
       "1  2    Bob  25  Los Angeles"
      ]
     },
     "execution_count": 25,
     "metadata": {},
     "output_type": "execute_result"
    }
   ],
   "source": [
    "# create dataframe of your results\n",
    "\n",
    "import pandas as pd\n",
    "df = pd.DataFrame(results)\n",
    "df"
   ]
  },
  {
   "cell_type": "code",
   "execution_count": 26,
   "id": "e132d316",
   "metadata": {},
   "outputs": [
    {
     "data": {
      "text/html": [
       "<div>\n",
       "<style scoped>\n",
       "    .dataframe tbody tr th:only-of-type {\n",
       "        vertical-align: middle;\n",
       "    }\n",
       "\n",
       "    .dataframe tbody tr th {\n",
       "        vertical-align: top;\n",
       "    }\n",
       "\n",
       "    .dataframe thead th {\n",
       "        text-align: right;\n",
       "    }\n",
       "</style>\n",
       "<table border=\"1\" class=\"dataframe\">\n",
       "  <thead>\n",
       "    <tr style=\"text-align: right;\">\n",
       "      <th></th>\n",
       "      <th>Id</th>\n",
       "      <th>Name</th>\n",
       "      <th>Age</th>\n",
       "      <th>City</th>\n",
       "    </tr>\n",
       "  </thead>\n",
       "  <tbody>\n",
       "    <tr>\n",
       "      <th>0</th>\n",
       "      <td>1</td>\n",
       "      <td>Alice</td>\n",
       "      <td>30</td>\n",
       "      <td>New York</td>\n",
       "    </tr>\n",
       "    <tr>\n",
       "      <th>1</th>\n",
       "      <td>2</td>\n",
       "      <td>Bob</td>\n",
       "      <td>25</td>\n",
       "      <td>Los Angeles</td>\n",
       "    </tr>\n",
       "  </tbody>\n",
       "</table>\n",
       "</div>"
      ],
      "text/plain": [
       "   Id   Name  Age         City\n",
       "0   1  Alice   30     New York\n",
       "1   2    Bob   25  Los Angeles"
      ]
     },
     "execution_count": 26,
     "metadata": {},
     "output_type": "execute_result"
    }
   ],
   "source": [
    "df.columns = [\"Id\",\"Name\",\"Age\",\"City\"]\n",
    "df"
   ]
  },
  {
   "cell_type": "code",
   "execution_count": 27,
   "id": "3598e0fb",
   "metadata": {},
   "outputs": [],
   "source": [
    "#Closing the connection\n",
    "\n",
    "connection.close()  #you cannot close connection until you are working with one database.\n"
   ]
  },
  {
   "cell_type": "code",
   "execution_count": 1,
   "id": "9894b3fd",
   "metadata": {},
   "outputs": [
    {
     "name": "stdout",
     "output_type": "stream",
     "text": [
      "(1971, 'And Now for Something Completely Different')\n",
      "(1975, 'Monty Python and the Holy Grail')\n",
      "(1979, \"Monty Python's Life of Brian\")\n",
      "(1982, 'Monty Python Live at the Hollywood Bowl')\n",
      "(1983, \"Monty Python's The Meaning of Life\")\n",
      "                                            0     1    2\n",
      "0             Monty Python and the Holy Grail  1975  8.2\n",
      "1  And Now for Something Completely Different  1971  7.5\n",
      "2     Monty Python Live at the Hollywood Bowl  1982  7.9\n",
      "3          Monty Python's The Meaning of Life  1983  7.5\n",
      "4                Monty Python's Life of Brian  1979  8.0\n"
     ]
    }
   ],
   "source": [
    "# Example 2\n",
    "\n",
    "# import dependency\n",
    "import sqlite3 as sql\n",
    "# create a connection to the database and a cursor to execute queries\n",
    "conn = sql.connect('demo.db')\n",
    "cur = conn.cursor()\n",
    "# create the table\n",
    "cur.execute(\"CREATE TABLE movies1(title, year, score)\")\n",
    "cur.execute(\"\"\"\n",
    "  INSERT INTO movies1 VALUES\n",
    " ('Monty Python and the Holy Grail', 1975, 8.2),\n",
    " ('And Now for Something Completely Different', 1971, 7.5)\n",
    "\"\"\")\n",
    "conn.commit() # Remember to commit the transaction after executing INSERT\n",
    "data = [\n",
    " (\"Monty Python Live at the Hollywood Bowl\", 1982, 7.9),\n",
    " (\"Monty Python's The Meaning of Life\", 1983, 7.5),\n",
    " (\"Monty Python's Life of Brian\", 1979, 8.0),\n",
    "]\n",
    "cur.executemany(\"INSERT INTO movies1 VALUES(?, ?, ?)\", data)\n",
    "conn.commit() # Remember to commit the transaction after executing INSERT.\n",
    "# query data from database\n",
    "query = \"SELECT * FROM movies1\"\n",
    "results = cur.execute(query).fetchall()\n",
    "results\n",
    "for row in cur.execute(\"SELECT year, title FROM movies1 ORDER BY year\"):\n",
    " print(row)\n",
    "import pandas as pd\n",
    "df = pd.DataFrame(results)\n",
    "print(df)"
   ]
  },
  {
   "cell_type": "code",
   "execution_count": null,
   "id": "631b9aee",
   "metadata": {},
   "outputs": [],
   "source": []
  }
 ],
 "metadata": {
  "kernelspec": {
   "display_name": "Python 3 (ipykernel)",
   "language": "python",
   "name": "python3"
  },
  "language_info": {
   "codemirror_mode": {
    "name": "ipython",
    "version": 3
   },
   "file_extension": ".py",
   "mimetype": "text/x-python",
   "name": "python",
   "nbconvert_exporter": "python",
   "pygments_lexer": "ipython3",
   "version": "3.10.9"
  }
 },
 "nbformat": 4,
 "nbformat_minor": 5
}
