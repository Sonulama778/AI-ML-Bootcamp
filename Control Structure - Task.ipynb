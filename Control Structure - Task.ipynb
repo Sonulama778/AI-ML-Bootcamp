{
 "cells": [
  {
   "cell_type": "code",
   "execution_count": 10,
   "id": "d0489d4b",
   "metadata": {},
   "outputs": [
    {
     "name": "stdout",
     "output_type": "stream",
     "text": [
      "50\n",
      "30.5\n",
      "Addition: 80.5\n",
      "Subtraction: 19.5\n",
      "Multiplication: 1525.0\n",
      "Floor Division: 1.0\n",
      "a is greater than b: True\n",
      "a is smaller than b: False\n",
      "a is equal to b: False\n",
      "30.5\n",
      "50\n"
     ]
    }
   ],
   "source": [
    "#Task 1: Variable Assignment\n",
    "#Create a variable a and assign it the value 50.\n",
    "#Create another variable b and assign it the value 30.5.\n",
    "a = 50\n",
    "b = 30.5\n",
    "#Print their values and types.\n",
    "print (a)\n",
    "print (b)\n",
    "#Task 2: Operators\n",
    "#Using variables a and b from Task 1, perform the following operations:\n",
    "#Addition\n",
    "# Subtraction\n",
    "# Multiplication\n",
    "# Floor Division\n",
    "print(\"Addition:\", (a+b))\n",
    "print(\"Subtraction:\", (a-b))\n",
    "print(\"Multiplication:\", (a*b))\n",
    "print(\"Floor Division:\", (a//b))\n",
    "#Compare the two variables to check if a is greater than b.\n",
    "print(\"a is greater than b:\", a>b)\n",
    "print(\"a is smaller than b:\", a<b)\n",
    "print(\"a is equal to b:\", a == b)\n",
    "\n",
    "#Swap the values of a and b without using a third variable.\n",
    "a,b = [b,a]\n",
    "print(a)\n",
    "print(b)"
   ]
  },
  {
   "cell_type": "code",
   "execution_count": null,
   "id": "17361e38",
   "metadata": {},
   "outputs": [],
   "source": []
  }
 ],
 "metadata": {
  "kernelspec": {
   "display_name": "Python 3 (ipykernel)",
   "language": "python",
   "name": "python3"
  },
  "language_info": {
   "codemirror_mode": {
    "name": "ipython",
    "version": 3
   },
   "file_extension": ".py",
   "mimetype": "text/x-python",
   "name": "python",
   "nbconvert_exporter": "python",
   "pygments_lexer": "ipython3",
   "version": "3.10.9"
  }
 },
 "nbformat": 4,
 "nbformat_minor": 5
}
